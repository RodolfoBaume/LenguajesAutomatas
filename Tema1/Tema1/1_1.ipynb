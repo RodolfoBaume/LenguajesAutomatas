{
 "cells": [
  {
   "cell_type": "markdown",
   "metadata": {},
   "source": [
    "# **1.1 Alfabeto**\n",
    "\n",
    "**Definición y ejemplos de alfabetos:**\n",
    "\n",
    "En teoría de lenguajes formales, un alfabeto es un conjunto finito de símbolos que se utilizan para construir cadenas. Los símbolos pueden ser letras, números, signos de puntuación, caracteres especiales, entre otros. Un alfabeto se denota por una letra mayúscula, como Σ.\n",
    "\n",
    "Por ejemplo, el alfabeto Σ = {0, 1} se utiliza para construir cadenas binarias, donde cada símbolo representa un bit. Otro ejemplo es el alfabeto Σ = {a, b, c} que se utiliza para construir cadenas de caracteres.\n",
    "\n",
    "**Concepto de símbolos y caracteres:**\n",
    "\n",
    "Un símbolo es un elemento básico de un alfabeto. Puede ser cualquier cosa, desde una letra hasta un número o un signo de puntuación. Un carácter es una representación visual de un símbolo. Por ejemplo, la letra \"a\" es un carácter que representa el símbolo \"a\".\n",
    "\n",
    "Es importante tener en cuenta que un carácter puede tener diferentes representaciones en diferentes sistemas de codificación de caracteres. Por ejemplo, en el sistema ASCII, la letra \"a\" se representa por el número 97, mientras que en el sistema Unicode, se representa por el número 97 también, pero con una codificación diferente.\n",
    "\n",
    "[Video Alfabetos, Cadenas y Lenguajes](https://youtu.be/0x_dbHi7dEY?si=igBi8C1Qr4fDpg2R)\n",
    "\n",
    "**Cómo representar alfabetos en Python:**\n",
    "\n",
    "En Python, un alfabeto se puede representar como una lista o un conjunto de símbolos. Por ejemplo, el alfabeto Σ = {0, 1} se puede representar como una lista en Python de la siguiente manera:\n",
    "\n",
    "``sigma = ['0', '1'] ``\n",
    "\n",
    "También se puede representar como un conjunto en Python de la siguiente manera:\n",
    "\n",
    "``sigma = {'0', '1'}``\n",
    "\n",
    "La elección de la representación depende del contexto y de las operaciones que se quieran realizar con el alfabeto. Por ejemplo, si se quiere verificar si un símbolo pertenece al alfabeto, es más eficiente utilizar un conjunto en lugar de una lista.\n",
    "\n",
    "Es importante tener en cuenta que en Python, los símbolos en un alfabeto se representan como cadenas de caracteres. Por lo tanto, es importante utilizar comillas simples o dobles para representar los símbolos en la lista o conjunto.\n",
    "\n",
    "En la teoría de lenguajes formales, el alfabeto es crucial ya que representa el conjunto de símbolos sobre los cuales se construyen las cadenas en un lenguaje formal. Esto es fundamental para comprender la estructura y funcionamiento de los lenguajes formales.\n",
    "\n",
    "En Python, los alfabetos pueden ser representados mediante listas o conjuntos. A continuación, te proporcionaré ejemplos con ambos enfoques:\n",
    "\n",
    "Representación de Alfabetos en Python utilizando Listas:"
   ]
  },
  {
   "cell_type": "code",
   "execution_count": 4,
   "metadata": {},
   "outputs": [
    {
     "name": "stdout",
     "output_type": "stream",
     "text": [
      "La cadena \"10101\" pertenece al alfabeto.\n"
     ]
    }
   ],
   "source": [
    "# Definición de un alfabeto utilizando una lista\n",
    "alfabeto_lista = ['0', '1']  # Alfabeto binario\n",
    "\n",
    "# Función que valida si una cadena pertenece a un alfabeto específico\n",
    "def pertenece_a_alfabeto(cadena, alfabeto):\n",
    "    for caracter in cadena:\n",
    "        if caracter not in alfabeto:\n",
    "            return False\n",
    "    return True\n",
    "\n",
    "# Ejemplo de validación de pertenencia a un alfabeto\n",
    "cadena_ejemplo = '10101'\n",
    "if pertenece_a_alfabeto(cadena_ejemplo, alfabeto_lista):\n",
    "    print(f'La cadena \"{cadena_ejemplo}\" pertenece al alfabeto.')\n",
    "else:\n",
    "    print(f'La cadena \"{cadena_ejemplo}\" no pertenece al alfabeto.')"
   ]
  },
  {
   "cell_type": "markdown",
   "metadata": {},
   "source": [
    "Representación de Alfabetos en Python utilizando Conjuntos:"
   ]
  },
  {
   "cell_type": "code",
   "execution_count": 6,
   "metadata": {},
   "outputs": [
    {
     "name": "stdout",
     "output_type": "stream",
     "text": [
      "La cadena \"abcde\" pertenece al alfabeto.\n"
     ]
    }
   ],
   "source": [
    "# Definición de un alfabeto utilizando un conjunto\n",
    "alfabeto_conjunto = {'a', 'b', 'c', 'd', 'e'}  # Alfabeto con letras\n",
    "\n",
    "# Función que valida si una cadena pertenece a un alfabeto específico\n",
    "def pertenece_a_alfabeto(cadena, alfabeto):\n",
    "    return set(cadena).issubset(alfabeto)\n",
    "\n",
    "# Ejemplo de validación de pertenencia a un alfabeto\n",
    "cadena_ejemplo = 'abcde'\n",
    "if pertenece_a_alfabeto(cadena_ejemplo, alfabeto_conjunto):\n",
    "    print(f'La cadena \"{cadena_ejemplo}\" pertenece al alfabeto.')\n",
    "else:\n",
    "    print(f'La cadena \"{cadena_ejemplo}\" no pertenece al alfabeto.')"
   ]
  }
 ],
 "metadata": {
  "kernelspec": {
   "display_name": "Python 3",
   "language": "python",
   "name": "python3"
  },
  "language_info": {
   "codemirror_mode": {
    "name": "ipython",
    "version": 3
   },
   "file_extension": ".py",
   "mimetype": "text/x-python",
   "name": "python",
   "nbconvert_exporter": "python",
   "pygments_lexer": "ipython3",
   "version": "3.10.11"
  }
 },
 "nbformat": 4,
 "nbformat_minor": 2
}
