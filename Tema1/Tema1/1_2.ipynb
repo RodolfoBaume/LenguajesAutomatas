{
 "cells": [
  {
   "cell_type": "markdown",
   "metadata": {},
   "source": [
    "# 1.2 Cadenas\n",
    "\n",
    "Una cadena en el contexto de la teoría de lenguajes formales es una secuencia finita de símbolos tomados de un determinado alfabeto. Estas cadenas son elementos fundamentales en la construcción de los lenguajes formales, ya que conforman parte de los lenguajes definidos por el alfabeto.\n",
    "\n",
    "En Python, es posible generar todas las posibles combinaciones de cadenas a partir de un alfabeto dado utilizando recursión y manipulación de strings. A continuación, te proporcionaré un ejemplo de una función en Python que realiza esto:"
   ]
  },
  {
   "cell_type": "code",
   "execution_count": 1,
   "metadata": {},
   "outputs": [
    {
     "name": "stdout",
     "output_type": "stream",
     "text": [
      "Todas las posibles combinaciones de cadenas a partir del alfabeto dado:\n",
      "['0', '1', '00', '01', '10', '11', '000', '001', '010', '011', '100', '101', '110', '111']\n"
     ]
    }
   ],
   "source": [
    "import itertools\n",
    "\n",
    "# Función que genera todas las posibles combinaciones de cadenas a partir de un alfabeto dado\n",
    "def combinaciones_cadenas(alfabeto, longitud_maxima):\n",
    "    combinaciones = []\n",
    "    for i in range(1, longitud_maxima + 1):\n",
    "        # Utiliza itertools.product para generar todas las combinaciones de longitud i\n",
    "        combinaciones.extend([''.join(x) for x in itertools.product(alfabeto, repeat=i)])\n",
    "    return combinaciones\n",
    "\n",
    "# Definición del alfabeto\n",
    "alfabeto = ['0', '1']  # Alfabeto binario\n",
    "\n",
    "# Genera todas las combinaciones de cadenas a partir del alfabeto dado\n",
    "resultados = combinaciones_cadenas(alfabeto, 3)  # Genera combinaciones de longitud hasta 3\n",
    "\n",
    "# Muestra el resultado\n",
    "print(\"Todas las posibles combinaciones de cadenas a partir del alfabeto dado:\")\n",
    "print(resultados)"
   ]
  },
  {
   "cell_type": "markdown",
   "metadata": {},
   "source": [
    "En este ejemplo, la función `combinaciones_cadenas` toma como argumentos un alfabeto y una longitud máxima, y utiliza la función `itertools.product` para generar todas las posibles combinaciones de cadenas con una longitud hasta la longitud máxima especificada. Las combinaciones resultantes se almacenan en una lista que se devuelve como resultado.\n",
    "\n",
    "Este es solo un ejemplo de cómo se puede implementar una función en Python para generar todas las posibles combinaciones de cadenas a partir de un alfabeto dado.\n",
    "\n",
    "**Cadena Vacía**\n",
    "\n",
    "La cadena vacía se denota por ε y es la cadena que está formada por una secuencia vacía de símbolos de cualquier alfabeto.\n",
    "\n",
    "## **Operaciones con Cadenas**\n",
    "\n",
    "**Longitud de una Cadena**\n",
    "\n",
    "Si w es una cadena, decimos que la longitud de la misma es el número de símbolos que la forman y se denota por |w|. No importando cuantas veces aparezca el mismo símbolo en la cadena, cada ocurrencia se cuenta por separado.\n",
    "\n",
    "**Ejemplos**\n",
    "- Sea w1 = 10011, entonces |w1| = 5.\n",
    "- Sea w2 = 1011010101, entonces |w2| = 10.\n",
    "- La longitud de la cadena vacía es cero: |ε| = 0.\n",
    "\n",
    "**Concatenación**\n",
    "\n",
    "Concatenación es la yuxtaposición de dos cadenas, una a continuación de la otra, detal forma que si w y x son dos cadenas, la concatenación de w con x es la cadena que se obtiene de añadir la cadena x a la cadena w.\n",
    "\n",
    "La concatenación se denota con el operador de yuxtaposición: w $ x, pero usualmente se omite el punto, quedando: wx. Además, la yuxtaposición no es conmutativa y en general se tiene que: wx ≠ xw.\n",
    "\n",
    "La longitud de la concatenación es igual a la suma de las longitudes de las cadenas individuales: |wx| = |w| + |x| = |xw|.\n",
    "\n",
    "La concatenación de ε con cualquier cadena w no modifica a w. Es decir, la cadena vacía es el idéntico respecto a la concatenación, ya que: εw = wε = w. Por esto, a la cadena vacía se le conoce también como el Elemento Neutro de la Concatenación.\n",
    "\n",
    "\n",
    "**Potencia de Cadenas** \n",
    "Sea w una cadena formada a partir de un alfabeto Σ, entonces para cualquier n ≥ 0, se tiene que la enésima potencia de w se puede definir recursivamente como:\n",
    "\n",
    "<img src=\"../img/PotenciaCadenas.png\" width=400>\n",
    "\n",
    "Observe que en general se tiene que la concatenación de potencias es diferente de la potencia de la concatenación, esto es: (wx)n ≠ wnxn.\n",
    "\n",
    "**Prefijo**\n",
    "\n",
    "Sea w una cadena formada a partir de un alfabeto Σ, entonces, se cumple que existen dos cadenas x y z, tales que w = xz, se dice que x es un prefijo de w. Además, si z ≠ ε (es decir x ≠ w), se dice que x es un prefijo propio de w; en el otro caso, cuando x = w, se tiene que x es llamado prefijo impropio.\n",
    "Una cadena de longitud n, tiene n prefijos propios distintos y uno impropio.\n",
    "\n",
    "**Sufijo**\n",
    "\n",
    "Sea w una cadena formada a partir de un alfabeto Σ, entonces, se cumple que existen dos cadenas x y z, tales que w = xz, se dice que z es un sufijo de w. Además, si x ≠ ε (es decir z ≠ w), se puede decir que z es un sufijo propio de w; y similarmente al caso anterior, si z = w, entonces z es un sufijo impropio.\n",
    "\n",
    "Una cadena de longitud n, tiene n sufijos propios distintos y uno impropio.\n",
    "\n",
    "**Subcadenas**\n",
    "Una cadena y es una subcadena de otra cadena w, si existen x y z, no ambas vacías, para las cuales se cumple que w = xyz. Cualquier prefijo o sufijo propios de w también son subcadenas de w, en particular, ε es subcadena de cualquier otra cadena.\n",
    "\n",
    "La cantidad máxima N de subcadenas distintas de una cadena dada se puede determinar con la siguiente fórmula:\n",
    "\n",
    "<img src=\"../img/Subcadenas.png\" width=400>\n",
    "\n",
    "Mientras que la cantidad mínima de subcadenas distintas de una cadena es n, para el caso en que la cadena esté formada por puros símbolos iguales.\n",
    "\n",
    "\n",
    "**Inversa de una Cadena**\n",
    "La Inversa de una Cadena w es la cadena wR, tal que es la imagen refleja de w, es decir, que equivale a w cuando se lee de derecha a izquierda.\n",
    "\n",
    "Formalmente se define la inversa de w de manera recursiva como:\n",
    "\n",
    "<img src=\"../img/Inversa.png\" width=400>\n",
    "\n",
    "Donde y es una cadena y a es un símbolo.\n",
    "\n",
    "Propiedades de la Inversa\n",
    "\n",
    "- aR = a, donde a es un símbolo.\n",
    "- ( xR)R = x\n",
    "- Si x = wy, entonces xR = yRwR\n",
    "- Una cadena se llama palíndroma, cuando es igual a su inversa: w = wR.\n"
   ]
  }
 ],
 "metadata": {
  "kernelspec": {
   "display_name": "Python 3",
   "language": "python",
   "name": "python3"
  },
  "language_info": {
   "codemirror_mode": {
    "name": "ipython",
    "version": 3
   },
   "file_extension": ".py",
   "mimetype": "text/x-python",
   "name": "python",
   "nbconvert_exporter": "python",
   "pygments_lexer": "ipython3",
   "version": "3.10.11"
  }
 },
 "nbformat": 4,
 "nbformat_minor": 2
}
