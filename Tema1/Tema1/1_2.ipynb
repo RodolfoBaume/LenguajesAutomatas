{
 "cells": [
  {
   "cell_type": "markdown",
   "metadata": {},
   "source": [
    "# 1.2 Cadenas\n",
    "\n",
    "Una cadena en el contexto de la teoría de lenguajes formales es una secuencia finita de símbolos tomados de un determinado alfabeto. Estas cadenas son elementos fundamentales en la construcción de los lenguajes formales, ya que conforman parte de los lenguajes definidos por el alfabeto.\n",
    "\n",
    "En Python, es posible generar todas las posibles combinaciones de cadenas a partir de un alfabeto dado utilizando recursión y manipulación de strings. A continuación, te proporcionaré un ejemplo de una función en Python que realiza esto:"
   ]
  },
  {
   "cell_type": "code",
   "execution_count": 1,
   "metadata": {},
   "outputs": [
    {
     "name": "stdout",
     "output_type": "stream",
     "text": [
      "Todas las posibles combinaciones de cadenas a partir del alfabeto dado:\n",
      "['0', '1', '00', '01', '10', '11', '000', '001', '010', '011', '100', '101', '110', '111']\n"
     ]
    }
   ],
   "source": [
    "import itertools\n",
    "\n",
    "# Función que genera todas las posibles combinaciones de cadenas a partir de un alfabeto dado\n",
    "def combinaciones_cadenas(alfabeto, longitud_maxima):\n",
    "    combinaciones = []\n",
    "    for i in range(1, longitud_maxima + 1):\n",
    "        # Utiliza itertools.product para generar todas las combinaciones de longitud i\n",
    "        combinaciones.extend([''.join(x) for x in itertools.product(alfabeto, repeat=i)])\n",
    "    return combinaciones\n",
    "\n",
    "# Definición del alfabeto\n",
    "alfabeto = ['0', '1']  # Alfabeto binario\n",
    "\n",
    "# Genera todas las combinaciones de cadenas a partir del alfabeto dado\n",
    "resultados = combinaciones_cadenas(alfabeto, 3)  # Genera combinaciones de longitud hasta 3\n",
    "\n",
    "# Muestra el resultado\n",
    "print(\"Todas las posibles combinaciones de cadenas a partir del alfabeto dado:\")\n",
    "print(resultados)"
   ]
  },
  {
   "cell_type": "markdown",
   "metadata": {},
   "source": [
    "En este ejemplo, la función `combinaciones_cadenas` toma como argumentos un alfabeto y una longitud máxima, y utiliza la función `itertools.product` para generar todas las posibles combinaciones de cadenas con una longitud hasta la longitud máxima especificada. Las combinaciones resultantes se almacenan en una lista que se devuelve como resultado.\n",
    "\n",
    "Este es solo un ejemplo de cómo se puede implementar una función en Python para generar todas las posibles combinaciones de cadenas a partir de un alfabeto dado."
   ]
  }
 ],
 "metadata": {
  "kernelspec": {
   "display_name": "Python 3",
   "language": "python",
   "name": "python3"
  },
  "language_info": {
   "codemirror_mode": {
    "name": "ipython",
    "version": 3
   },
   "file_extension": ".py",
   "mimetype": "text/x-python",
   "name": "python",
   "nbconvert_exporter": "python",
   "pygments_lexer": "ipython3",
   "version": "3.10.11"
  }
 },
 "nbformat": 4,
 "nbformat_minor": 2
}
