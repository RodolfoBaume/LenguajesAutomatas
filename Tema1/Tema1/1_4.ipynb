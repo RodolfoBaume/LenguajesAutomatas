{
 "cells": [
  {
   "cell_type": "markdown",
   "metadata": {},
   "source": [
    "# 4 Estructura de un traductor\n",
    "\n",
    "La función de un traductor es convertir el código fuente de un lenguaje de programación a un formato que pueda ser entendido y ejecutado por una máquina. Los traductores pueden ser compiladores o intérpretes, y son de suma importancia en la compilación y ejecución de programas, ya que permiten que los programas escritos en lenguajes de alto nivel sean convertidos a lenguaje de máquina comprensible por el hardware.\n",
    "\n",
    "Los compiladores transforman todo el programa fuente a lenguaje máquina en un solo paso antes de la ejecución, generando un archivo ejecutable. Los intérpretes, por otro lado, traducen y ejecutan el código fuente línea por línea en tiempo real.\n",
    "\n",
    "Ejemplo en Python: Traducción Simple Utilizando Diccionarios\n",
    "\n",
    "A continuación, se ilustra un ejemplo simple de traducción utilizando diccionarios en Python. Supongamos que queremos traducir algunas palabras del español al inglés. Podemos utilizar un diccionario para llevar a cabo esta traducción de manera sencilla."
   ]
  },
  {
   "cell_type": "code",
   "execution_count": 1,
   "metadata": {},
   "outputs": [
    {
     "name": "stdout",
     "output_type": "stream",
     "text": [
      "La traducción de 'hola' es 'hello'.\n"
     ]
    }
   ],
   "source": [
    "# Diccionario de traducción del español al inglés\n",
    "diccionario_traduccion = {\n",
    "    \"hola\": \"hello\",\n",
    "    \"adiós\": \"goodbye\",\n",
    "    \"casa\": \"house\",\n",
    "    \"perro\": \"dog\",\n",
    "    # Agrega más palabras y sus traducciones si es necesario\n",
    "}\n",
    "\n",
    "# Función para realizar la traducción\n",
    "def traducir_palabra(palabra, diccionario):\n",
    "    if palabra in diccionario:\n",
    "        return diccionario[palabra]\n",
    "    else:\n",
    "        return \"Palabra no encontrada en el diccionario de traducción.\"\n",
    "\n",
    "# Ejemplo de uso de la función de traducción\n",
    "palabra_a_traducir = \"hola\"\n",
    "traduccion = traducir_palabra(palabra_a_traducir, diccionario_traduccion)\n",
    "print(f\"La traducción de '{palabra_a_traducir}' es '{traduccion}'.\")\n"
   ]
  },
  {
   "cell_type": "markdown",
   "metadata": {},
   "source": [
    "En este ejemplo, se utiliza un diccionario en Python para mapear palabras en español a sus respectivas traducciones en inglés. La función `traducir_palabra` toma una palabra como entrada y busca su traducción en el diccionario. Si la traducción existe, la devuelve; de lo contrario, indica que la palabra no se encuentra en el diccionario.\n",
    "\n",
    "Este ejemplo muestra cómo utilizar un diccionario en Python para llevar a cabo una traducción simple. Aunque este ejemplo es básico, ilustra el concepto de traducción mediante el uso de estructuras de datos en Python."
   ]
  }
 ],
 "metadata": {
  "kernelspec": {
   "display_name": "Python 3",
   "language": "python",
   "name": "python3"
  },
  "language_info": {
   "codemirror_mode": {
    "name": "ipython",
    "version": 3
   },
   "file_extension": ".py",
   "mimetype": "text/x-python",
   "name": "python",
   "nbconvert_exporter": "python",
   "pygments_lexer": "ipython3",
   "version": "3.10.11"
  }
 },
 "nbformat": 4,
 "nbformat_minor": 2
}
