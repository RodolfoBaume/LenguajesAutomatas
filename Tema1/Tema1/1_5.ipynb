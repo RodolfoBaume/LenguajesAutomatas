{
 "cells": [
  {
   "cell_type": "markdown",
   "metadata": {},
   "source": [
    "# 5 Fases de un compilador\n",
    "\n",
    "Las fases de un compilador son etapas fundamentales en el proceso de traducción del código fuente a un formato ejecutable. Cada fase cumple un papel específico en la transformación del código para su adecuada interpretación por la máquina. Las principales fases de un compilador incluyen el análisis léxico, el análisis sintáctico, el análisis semántico, la generación de código intermedio, la optimización de código y la generación de código objeto.\n",
    "\n",
    "A continuación, se ofrece un ejemplo simple de cada fase de un compilador y cómo podrían implementarse en Python:\n",
    "\n",
    " **1. Análisis léxico:**  Esta fase se encarga de la identificación y análisis de los tokens del lenguaje, como palabras clave, identificadores, literales, etc. \n",
    "\n",
    "Aquí tienes un ejemplo simple utilizando expresiones regulares en Python:"
   ]
  },
  {
   "cell_type": "code",
   "execution_count": 3,
   "metadata": {},
   "outputs": [
    {
     "name": "stdout",
     "output_type": "stream",
     "text": [
      "[('a', 'a'), ('5', '5'), ('+', '+'), ('b', 'b')]\n"
     ]
    }
   ],
   "source": [
    "import re\n",
    "\n",
    "# Definición de patrones para tokens\n",
    "patron_identificador = r'[a-zA-Z_]\\w*'\n",
    "patron_numero = r'\\d+'\n",
    "patron_operador = r'\\+|\\-|\\*|/'\n",
    "\n",
    "# Función de análisis léxico\n",
    "def analisis_lexico(codigo_fuente):\n",
    "    tokens = []\n",
    "    for token in re.finditer(f'({patron_identificador})|({patron_numero})|({patron_operador})', codigo_fuente):\n",
    "        tipo = next(filter(None, token.groups()))\n",
    "        tokens.append((tipo, token.group()))\n",
    "    return tokens\n",
    "\n",
    "# Ejemplo de uso del análisis léxico\n",
    "codigo_fuente = \"a = 5 + b\"\n",
    "tokens = analisis_lexico(codigo_fuente)\n",
    "print(tokens)\n"
   ]
  },
  {
   "cell_type": "markdown",
   "metadata": {},
   "source": [
    "**2. Análisis sintáctico:** En esta fase, se verifica la estructura gramatical del código fuente. \n",
    "\n",
    "Aquí un ejemplo sencillo utilizando una gramática libre de contexto:"
   ]
  },
  {
   "cell_type": "code",
   "execution_count": 4,
   "metadata": {},
   "outputs": [
    {
     "ename": "ModuleNotFoundError",
     "evalue": "No module named 'ply'",
     "output_type": "error",
     "traceback": [
      "\u001b[1;31m---------------------------------------------------------------------------\u001b[0m",
      "\u001b[1;31mModuleNotFoundError\u001b[0m                       Traceback (most recent call last)",
      "Cell \u001b[1;32mIn[4], line 2\u001b[0m\n\u001b[0;32m      1\u001b[0m \u001b[38;5;66;03m# Definición de una gramática sencilla para expresiones aritméticas\u001b[39;00m\n\u001b[1;32m----> 2\u001b[0m \u001b[38;5;28;01mimport\u001b[39;00m \u001b[38;5;21;01mply\u001b[39;00m\u001b[38;5;21;01m.\u001b[39;00m\u001b[38;5;21;01myacc\u001b[39;00m \u001b[38;5;28;01mas\u001b[39;00m \u001b[38;5;21;01myacc\u001b[39;00m\n\u001b[0;32m      4\u001b[0m \u001b[38;5;66;03m# Definición de la gramática\u001b[39;00m\n\u001b[0;32m      5\u001b[0m \u001b[38;5;28;01mdef\u001b[39;00m \u001b[38;5;21mp_expresion\u001b[39m(p):\n",
      "\u001b[1;31mModuleNotFoundError\u001b[0m: No module named 'ply'"
     ]
    }
   ],
   "source": [
    "# Definición de una gramática sencilla para expresiones aritméticas\n",
    "import ply.yacc as yacc\n",
    "\n",
    "# Definición de la gramática\n",
    "def p_expresion(p):\n",
    "    '''expresion : ID ASIGNACION expresion\n",
    "                 | expresion OPERADOR expresion\n",
    "                 | NUMERO'''\n",
    "    # Lógica para comprobar la estructura sintáctica\n",
    "\n",
    "# Creación del analizador sintáctico\n",
    "analizador_sintactico = yacc.yacc()\n"
   ]
  },
  {
   "cell_type": "markdown",
   "metadata": {},
   "source": [
    "**3. Análisis semántico:** Esta fase se encarga de verificar la coherencia del significado del código. \n",
    "\n",
    "Aquí un ejemplo sencillo que verifica la coherencia de operaciones aritméticas:"
   ]
  },
  {
   "cell_type": "code",
   "execution_count": null,
   "metadata": {},
   "outputs": [],
   "source": [
    "# Función para análisis semántico de operaciones aritméticas\n",
    "def analisis_semantico_expresion(expresion):\n",
    "    # Lógica para verificar la coherencia semántica de la expresión\n",
    "    "
   ]
  },
  {
   "cell_type": "markdown",
   "metadata": {},
   "source": [
    "**4. Generación de código intermedio, optimización de código y generación de código objeto:** Estas fases son críticas para la generación eficiente del código ejecutable. Implementar ejemplos sencillos para estas fases sería bastante complejo y extenso para el contexto actual, pero en general implican la transformación del código a una representación intermedia, la optimización de esta representación y la generación del código máquina respectivamente."
   ]
  }
 ],
 "metadata": {
  "kernelspec": {
   "display_name": "Python 3",
   "language": "python",
   "name": "python3"
  },
  "language_info": {
   "codemirror_mode": {
    "name": "ipython",
    "version": 3
   },
   "file_extension": ".py",
   "mimetype": "text/x-python",
   "name": "python",
   "nbconvert_exporter": "python",
   "pygments_lexer": "ipython3",
   "version": "3.12.0"
  }
 },
 "nbformat": 4,
 "nbformat_minor": 2
}
