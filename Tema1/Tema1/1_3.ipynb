{
 "cells": [
  {
   "cell_type": "markdown",
   "metadata": {},
   "source": [
    "# 1.3 Lenguajes, tipos y herramientas.\n",
    "\n",
    "En el ámbito de la teoría de lenguajes formales, es crucial comprender los diferentes tipos de lenguajes formales y las herramientas que se utilizan para trabajar con ellos. A continuación, se presentarán brevemente los tipos de lenguajes formales y se mostrará cómo utilizar expresiones regulares en Python para validar cadenas dentro de un determinado lenguaje.\n",
    "\n",
    "### Tipos de Lenguajes Formales:\n",
    "\n",
    "1. Lenguajes Regulares: Estos lenguajes pueden ser descritos por medio de expresiones regulares y pueden ser reconocidos por autómatas finitos.\n",
    "\n",
    "2. Lenguajes Libres de Contexto: Estos lenguajes son descritos por medio de gramáticas libres de contexto y pueden ser reconocidos por autómatas de pila.\n",
    "\n",
    "### Herramientas para Trabajar con Lenguajes Formales:\n",
    "\n",
    "- Expresiones Regulares: Patrones que describen conjuntos de cadenas de caracteres. En Python, el módulo \"re\" proporciona herramientas para trabajar con expresiones regulares.\n",
    "\n",
    "- Gramáticas Formales: Descripciones formales de la estructura de un lenguaje, comúnmente utilizadas para definir lenguajes libres de contexto. En Python, se pueden implementar gramáticas formales con herramientas como PLY (Python Lex-Yacc).\n",
    "\n",
    "- Autómatas: Modelos matemáticos de cómputo que son utilizados para reconocer lenguajes regulares y libres de contexto. En Python, es posible implementar autómatas utilizando programación orientada a objetos u otras técnicas.\n",
    "\n",
    "Ejemplo en Python: Utilización de Expresiones Regulares para Validar Cadenas Dentro de un Lenguaje Dado"
   ]
  },
  {
   "cell_type": "code",
   "execution_count": 4,
   "metadata": {},
   "outputs": [
    {
     "name": "stdout",
     "output_type": "stream",
     "text": [
      "La cadena \"ejemplo@dominio.com\" es válida dentro del lenguaje definido.\n"
     ]
    }
   ],
   "source": [
    "import re\n",
    "\n",
    "# Definición de una expresión regular para validar un patrón específico\n",
    "patron_validacion = r'^[a-zA-Z0-9._%+-]+@[a-zA-Z0-9.-]+\\.[a-zA-Z]{2,}$'  # Ejemplo: Validación de un correo electrónico\n",
    "\n",
    "# Función que utiliza la expresión regular para validar una cadena\n",
    "def validar_cadena_con_expresion_regular(cadena, patron):\n",
    "    if re.match(patron, cadena):\n",
    "        return True\n",
    "    return False\n",
    "\n",
    "# Ejemplo de validación de una cadena utilizando la expresión regular\n",
    "cadena_ejemplo = 'ejemplo@dominio.com'\n",
    "if validar_cadena_con_expresion_regular(cadena_ejemplo, patron_validacion):\n",
    "    print(f'La cadena \"{cadena_ejemplo}\" es válida dentro del lenguaje definido.')\n",
    "else:\n",
    "    print(f'La cadena \"{cadena_ejemplo}\" no es válida dentro del lenguaje definido.')"
   ]
  },
  {
   "cell_type": "markdown",
   "metadata": {},
   "source": [
    "En este ejemplo, se utiliza el módulo \"re\" de Python para definir una expresión regular que valida un patrón específico, en este caso, un formato de dirección de correo electrónico. La función `validar_cadena_con_expresion_regular` utiliza esta expresión regular para validar si una cadena cumple con el patrón establecido."
   ]
  }
 ],
 "metadata": {
  "kernelspec": {
   "display_name": "Python 3",
   "language": "python",
   "name": "python3"
  },
  "language_info": {
   "codemirror_mode": {
    "name": "ipython",
    "version": 3
   },
   "file_extension": ".py",
   "mimetype": "text/x-python",
   "name": "python",
   "nbconvert_exporter": "python",
   "pygments_lexer": "ipython3",
   "version": "3.10.11"
  }
 },
 "nbformat": 4,
 "nbformat_minor": 2
}
