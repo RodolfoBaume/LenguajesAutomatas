{
 "cells": [
  {
   "cell_type": "markdown",
   "metadata": {},
   "source": [
    "# Ejemplo de Expresiones Regulares\n",
    "\n",
    "Las expresiones regulares son herramientas poderosas para el procesamiento de texto y son ampliamente utilizadas en la programación para la búsqueda, validación y manipulación de cadenas de caracteres. Aquí te dejo una práctica básica que puedes realizar para interactuar con un bot utilizando expresiones regulares:\n",
    "\n",
    "Supongamos que estás construyendo un bot de asistencia para un sistema de reservas de vuelos. Tu tarea es escribir un script que pueda entender las consultas de los usuarios sobre vuelos utilizando expresiones regulares para identificar patrones comunes en las consultas. Por ejemplo, puedes reconocer patrones como \"Quiero volar de Ciudad de México a Japón el 25 de marzo\", \"¿Cuánto cuesta un vuelo de Madrid a París?\", \"Necesito un vuelo de ida y vuelta de Londres a Roma\", etc.\n",
    "\n",
    "Aquí hay un ejemplo de cómo podrías estructurar tu código en Python utilizando expresiones regulares:"
   ]
  },
  {
   "cell_type": "code",
   "execution_count": null,
   "metadata": {},
   "outputs": [],
   "source": [
    "import re\n",
    "\n",
    "# Definir patrones de expresiones regulares\n",
    "patron_origen_destino_fecha = r\"volar de (\\w+) a (\\w+) el (\\d{1,2} de \\w+)\"\n",
    "patron_precio = r\"cuánto cuesta un vuelo de (\\w+) a (\\w+)\"\n",
    "patron_ida_vuelta = r\"un vuelo de ida y vuelta de (\\w+) a (\\w+)\"\n",
    "\n",
    "# Definir las consultas de los usuarios\n",
    "consultas = [\n",
    "    \"Quiero volar de México a Japón el 25 de marzo\",\n",
    "    \"¿Cuánto cuesta un vuelo de Madrid a París?\",\n",
    "    \"Necesito un vuelo de ida y vuelta de Londres a Roma\"\n",
    "]\n",
    "\n",
    "# Procesar las consultas\n",
    "for consulta in consultas:\n",
    "    # Verificar si la consulta coincide con alguno de los patrones\n",
    "    if re.search(patron_origen_destino_fecha, consulta):\n",
    "        origen_destino_fecha = re.search(patron_origen_destino_fecha, consulta)\n",
    "        origen = origen_destino_fecha.group(1)\n",
    "        destino = origen_destino_fecha.group(2)\n",
    "        fecha = origen_destino_fecha.group(3)\n",
    "        print(f\"Buscar vuelo de {origen} a {destino} para el {fecha}\")\n",
    "    elif re.search(patron_precio, consulta):\n",
    "        precio = re.search(patron_precio, consulta)\n",
    "        origen = precio.group(1)\n",
    "        destino = precio.group(2)\n",
    "        print(f\"Consultar precio de vuelo de {origen} a {destino}\")\n",
    "    elif re.search(patron_ida_vuelta, consulta):\n",
    "        ida_vuelta = re.search(patron_ida_vuelta, consulta)\n",
    "        origen = ida_vuelta.group(1)\n",
    "        destino = ida_vuelta.group(2)\n",
    "        print(f\"Buscar vuelo de ida y vuelta de {origen} a {destino}\")\n",
    "    else:\n",
    "        print(\"Lo siento, no puedo entender tu consulta.\")"
   ]
  },
  {
   "cell_type": "markdown",
   "metadata": {},
   "source": [
    "# Crear un nuevo bot en Telegram\n",
    "\n",
    "## Paso 1\n",
    "\n",
    "1. Abre la aplicación de Telegram y busca el bot llamado @BotFather.\n",
    "2. Inicia una conversación con @BotFather y utiliza el comando /newbot para crear un nuevo bot.\n",
    "3. Sigue las instrucciones de @BotFather, proporciona un nombre para tu bot y luego un nombre de usuario único que termine en \"bot\" (por ejemplo, mi_primer_bot). Recibirás un mensaje con el token de acceso del bot.\n",
    "\n",
    "## Paso 2\n",
    "\n",
    "1. Asegúrate de tener Python instalado en tu sistema. Puedes descargarlo desde python.org.\n",
    "\n",
    "2. Instala la biblioteca python-telegram-bot que te ayudará a interactuar con la API de Telegram. Puedes instalarla utilizando pip:"
   ]
  },
  {
   "cell_type": "code",
   "execution_count": null,
   "metadata": {},
   "outputs": [],
   "source": [
    "pip install python-telegram-bot"
   ]
  },
  {
   "cell_type": "markdown",
   "metadata": {},
   "source": [
    "## Paso 3: Escribir el código del bot\n",
    "\n",
    "Aquí hay un ejemplo de un bot simple que responde a mensajes utilizando expresiones regulares:\n"
   ]
  },
  {
   "cell_type": "code",
   "execution_count": null,
   "metadata": {},
   "outputs": [],
   "source": [
    "import logging\n",
    "import re\n",
    "\n",
    "from telegram import ForceReply, Update\n",
    "from telegram.ext import Application, CommandHandler, ContextTypes, MessageHandler, filters\n",
    "\n",
    "# Enable logging\n",
    "logging.basicConfig(format=\"%(asctime)s - %(name)s - %(levelname)s - %(message)s\", level=logging.INFO)\n",
    "logging.getLogger(\"httpx\").setLevel(logging.WARNING)\n",
    "logger = logging.getLogger(__name__)\n",
    "\n",
    "# Expresión regular para detectar mensajes que contienen \"Hola\"\n",
    "expresion_regular = re.compile(r\"hello|hi|hey|hola\", re.IGNORECASE)\n",
    "\n",
    "\n",
    "async def start(update: Update, context: ContextTypes.DEFAULT_TYPE) -> None:\n",
    "    \"\"\"Send a message when the command /start is issued.\"\"\"\n",
    "    user = update.effective_user\n",
    "    await update.message.reply_html(\n",
    "        rf\"Hi {user.mention_html()}!\",\n",
    "        reply_markup=ForceReply(selective=True),\n",
    "    )\n",
    "\n",
    "\n",
    "async def help_command(update: Update, context: ContextTypes.DEFAULT_TYPE) -> None:\n",
    "    \"\"\"Send a message when the command /help is issued.\"\"\"\n",
    "    await update.message.reply_text(\"Help!\")\n",
    "\n",
    "\n",
    "async def echo(update: Update, context: ContextTypes.DEFAULT_TYPE) -> None:\n",
    "    \"\"\"Echo the user message if it matches the regular expression.\"\"\"\n",
    "    message_text = update.message.text\n",
    "    if expresion_regular.search(message_text):\n",
    "        await update.message.reply_text(\"¡Hola! ¿Cómo estás?\")\n",
    "    else:\n",
    "        await update.message.reply_text(\"No entendí tu mensaje.\")\n",
    "\n",
    "\n",
    "def main() -> None:\n",
    "    \"\"\"Start the bot.\"\"\"\n",
    "    application = Application.builder().token(\"TOKEN\").build()\n",
    "\n",
    "    application.add_handler(CommandHandler(\"start\", start))\n",
    "    application.add_handler(CommandHandler(\"help\", help_command))\n",
    "    application.add_handler(MessageHandler(filters.TEXT & ~filters.COMMAND, echo))\n",
    "\n",
    "    application.run_polling(allowed_updates=Update.ALL_TYPES)\n",
    "\n",
    "\n",
    "if __name__ == \"__main__\":\n",
    "    main()\n"
   ]
  }
 ],
 "metadata": {
  "language_info": {
   "name": "python"
  }
 },
 "nbformat": 4,
 "nbformat_minor": 2
}
